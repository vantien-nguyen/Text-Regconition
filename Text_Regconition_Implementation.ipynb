{
  "nbformat": 4,
  "nbformat_minor": 5,
  "metadata": {
    "interpreter": {
      "hash": "84fb2fe92b14b18c056bda70d602a3106b09df8b368d4f2bd86b226979d0ed77"
    },
    "kernelspec": {
      "display_name": "Python 3",
      "language": "python",
      "name": "python3"
    },
    "language_info": {
      "codemirror_mode": {
        "name": "ipython",
        "version": 3
      },
      "file_extension": ".py",
      "mimetype": "text/x-python",
      "name": "python",
      "nbconvert_exporter": "python",
      "pygments_lexer": "ipython3",
      "version": "3.8.5"
    },
    "toc": {
      "base_numbering": 1,
      "nav_menu": {},
      "number_sections": true,
      "sideBar": true,
      "skip_h1_title": false,
      "title_cell": "Table of Contents",
      "title_sidebar": "Contents",
      "toc_cell": false,
      "toc_position": {},
      "toc_section_display": true,
      "toc_window_display": false
    },
    "colab": {
      "name": "Text Regconition Implementation.ipynb",
      "provenance": [],
      "collapsed_sections": []
    },
    "accelerator": "GPU"
  },
  "cells": [
    {
      "cell_type": "markdown",
      "source": [
        "## Prepare data from Synthetic Word Dataset: https://www.robots.ox.ac.uk/~vgg/data/text/#sec-synth\n",
        "- Upload .zip file to google drive and extract them"
      ],
      "metadata": {
        "id": "sWWq2eUxP3qw"
      },
      "id": "sWWq2eUxP3qw"
    },
    {
      "cell_type": "code",
      "metadata": {
        "colab": {
          "base_uri": "https://localhost:8080/"
        },
        "id": "V81qeQUSOUZU",
        "outputId": "e836951e-8aac-42a8-c890-d95675c5d3ab"
      },
      "source": [
        "from google.colab import drive\n",
        "drive.mount('/content/gdrive')"
      ],
      "id": "V81qeQUSOUZU",
      "execution_count": 1,
      "outputs": [
        {
          "output_type": "stream",
          "name": "stdout",
          "text": [
            "Mounted at /content/gdrive\n"
          ]
        }
      ]
    },
    {
      "cell_type": "code",
      "metadata": {
        "id": "RtJDkxpSOzHE"
      },
      "source": [
        "!cp gdrive/MyDrive/ComputerVision/TextRecognition/data.zip ."
      ],
      "id": "RtJDkxpSOzHE",
      "execution_count": 2,
      "outputs": []
    },
    {
      "cell_type": "code",
      "metadata": {
        "id": "bRexaTa5KYkj"
      },
      "source": [
        "from zipfile import ZipFile"
      ],
      "id": "bRexaTa5KYkj",
      "execution_count": 3,
      "outputs": []
    },
    {
      "cell_type": "code",
      "metadata": {
        "colab": {
          "base_uri": "https://localhost:8080/"
        },
        "id": "Z-q8xCIkK4pw",
        "outputId": "cf2db8a7-d82a-47c1-a833-56742e253bb7"
      },
      "source": [
        "with ZipFile('data.zip', 'r') as zip:\n",
        "    print('Extracting all the files now...')\n",
        "    zip.extractall()\n",
        "    print('Done!')"
      ],
      "id": "Z-q8xCIkK4pw",
      "execution_count": 4,
      "outputs": [
        {
          "output_type": "stream",
          "name": "stdout",
          "text": [
            "Extracting all the files now...\n",
            "Done!\n"
          ]
        }
      ]
    },
    {
      "cell_type": "markdown",
      "source": [
        "## Preprocess data\n",
        "- explore data\n",
        "- encode label data"
      ],
      "metadata": {
        "id": "pjiYRp_1QYu0"
      },
      "id": "pjiYRp_1QYu0"
    },
    {
      "cell_type": "code",
      "metadata": {
        "id": "e3bYhTYnORz5"
      },
      "source": [
        "import string\n",
        "import os\n",
        "import glob\n",
        "import fnmatch\n",
        "import numpy as np\n",
        "import matplotlib.pyplot as plt\n",
        "\n",
        "import cv2\n",
        "from keras.preprocessing.sequence import pad_sequences"
      ],
      "id": "e3bYhTYnORz5",
      "execution_count": 5,
      "outputs": []
    },
    {
      "cell_type": "code",
      "source": [
        "image = cv2.imread('/content/data/2236/6/100_WICKEDER_86476.jpg')\n",
        "image = cv2.cvtColor(image, cv2.COLOR_BGR2RGB)\n",
        "plt.imshow(image)\n",
        "plt.show()"
      ],
      "metadata": {
        "colab": {
          "base_uri": "https://localhost:8080/",
          "height": 127
        },
        "id": "p0kjhlsGQYAg",
        "outputId": "f26ee68c-6162-46a7-d243-162b60bb0737"
      },
      "id": "p0kjhlsGQYAg",
      "execution_count": 6,
      "outputs": [
        {
          "output_type": "display_data",
          "data": {
            "image/png": "[encoded data removed]",
            "text/plain": [
              "<Figure size 432x288 with 1 Axes>"
            ]
          },
          "metadata": {
            "needs_background": "light"
          }
        }
      ]
    },
    {
      "cell_type": "code",
      "metadata": {
        "id": "sYYkpM7ZORz9"
      },
      "source": [
        "char_list = string.ascii_letters + string.digits"
      ],
      "id": "sYYkpM7ZORz9",
      "execution_count": 7,
      "outputs": []
    },
    {
      "cell_type": "code",
      "metadata": {
        "id": "wBwWYxkkORz-"
      },
      "source": [
        "def encode_label(text):\n",
        "    encoded_text = []\n",
        "    for index, char in enumerate(text):\n",
        "        encoded_text.append(char_list.index(char))\n",
        "        \n",
        "    return encoded_text"
      ],
      "id": "wBwWYxkkORz-",
      "execution_count": 8,
      "outputs": []
    },
    {
      "cell_type": "code",
      "metadata": {
        "id": "p8UBl7vmORz_"
      },
      "source": [
        "# Reading data and encode the label\n",
        "path = 'data'\n",
        "\n",
        "train_img = []\n",
        "train_txt = []\n",
        "train_input_length = []\n",
        "train_label_length = []\n",
        "orig_txt = []\n",
        "\n",
        "valid_img = []\n",
        "valid_txt = []\n",
        "valid_input_length = []\n",
        "valid_label_length = []\n",
        "valid_orig_txt = []\n",
        "\n",
        "max_label_len = 0\n",
        "i = 1\n",
        "\n",
        "for root, dirnames, filenames in os.walk(path):\n",
        "    for f_name in fnmatch.filter(filenames, '*.jpg'):\n",
        "        img = cv2.cvtColor(cv2.imread(os.path.join(root, f_name)), cv2.COLOR_BGR2GRAY)   \n",
        "\n",
        "        w, h = img.shape\n",
        "        if h > 128 or w > 32:\n",
        "            continue\n",
        "        if w < 32:\n",
        "            add_zeros = np.ones((32-w, h))*255\n",
        "            img = np.concatenate((img, add_zeros))\n",
        "\n",
        "        if h < 128:\n",
        "            add_zeros = np.ones((32, 128-h))*255\n",
        "            img = np.concatenate((img, add_zeros), axis=1)\n",
        "        img = np.expand_dims(img , axis = 2)\n",
        "        \n",
        "        img = img/255.\n",
        "        \n",
        "        txt = f_name.split('_')[1]\n",
        "        \n",
        "        if len(txt) > max_label_len:\n",
        "            max_label_len = len(txt)\n",
        "            \n",
        "        if i % 10 == 0:     \n",
        "            valid_orig_txt.append(txt)   \n",
        "            valid_label_length.append(len(txt))\n",
        "            valid_input_length.append(31)\n",
        "            valid_img.append(img)\n",
        "            valid_txt.append(encode_label(txt))\n",
        "        else:\n",
        "            orig_txt.append(txt)   \n",
        "            train_label_length.append(len(txt))\n",
        "            train_input_length.append(31)\n",
        "            train_img.append(img)\n",
        "            train_txt.append(encode_label(txt)) \n",
        "\n",
        "        i+=1"
      ],
      "id": "p8UBl7vmORz_",
      "execution_count": 9,
      "outputs": []
    },
    {
      "cell_type": "code",
      "source": [
        "# Padding data\n",
        "train_padded_txt = pad_sequences(train_txt, maxlen=max_label_len, padding='post', value = len(char_list))\n",
        "valid_padded_txt = pad_sequences(valid_txt, maxlen=max_label_len, padding='post', value = len(char_list))"
      ],
      "metadata": {
        "id": "kKNNw8hxRz6E"
      },
      "id": "kKNNw8hxRz6E",
      "execution_count": 10,
      "outputs": []
    },
    {
      "cell_type": "code",
      "metadata": {
        "id": "gmGWj80TOR0A",
        "colab": {
          "base_uri": "https://localhost:8080/"
        },
        "outputId": "e756aca6-346d-4fed-9a27-03c238cb0c2a"
      },
      "source": [
        "len(train_padded_txt), len(valid_padded_txt)"
      ],
      "id": "gmGWj80TOR0A",
      "execution_count": 11,
      "outputs": [
        {
          "output_type": "execute_result",
          "data": {
            "text/plain": [
              "(147681, 16408)"
            ]
          },
          "metadata": {},
          "execution_count": 11
        }
      ]
    },
    {
      "cell_type": "markdown",
      "source": [
        "## Implement the network architecture of CRNN: https://arxiv.org/pdf/1507.05717.pdf"
      ],
      "metadata": {
        "id": "EVB0BIT_R79w"
      },
      "id": "EVB0BIT_R79w"
    },
    {
      "cell_type": "code",
      "metadata": {
        "id": "iDds43D2OR0C"
      },
      "source": [
        "import tensorflow as tf\n",
        "from keras.layers import Dense, LSTM, Reshape, BatchNormalization, Input, Conv2D, MaxPool2D, Lambda, Bidirectional\n",
        "from keras.models import Model\n",
        "from keras.activations import relu, sigmoid, softmax\n",
        "import keras.backend as K\n",
        "from tensorflow.keras.utils import to_categorical\n",
        "from keras.callbacks import ModelCheckpoint"
      ],
      "id": "iDds43D2OR0C",
      "execution_count": 12,
      "outputs": []
    },
    {
      "cell_type": "code",
      "metadata": {
        "id": "pw8vSXEGOR0C"
      },
      "source": [
        "inputs = Input(shape=(32,128,1))\n",
        "\n",
        "conv_1 = Conv2D(64, (3,3), activation = 'relu', padding='same')(inputs)\n",
        "pool_1 = MaxPool2D(pool_size=(2, 2), strides=2)(conv_1)\n",
        "conv_2 = Conv2D(128, (3,3), activation = 'relu', padding='same')(pool_1)\n",
        "pool_2 = MaxPool2D(pool_size=(2, 2), strides=2)(conv_2)\n",
        "conv_3 = Conv2D(256, (3,3), activation = 'relu', padding='same')(pool_2)\n",
        "conv_4 = Conv2D(256, (3,3), activation = 'relu', padding='same')(conv_3)\n",
        "pool_4 = MaxPool2D(pool_size=(2, 1))(conv_4)\n",
        "conv_5 = Conv2D(512, (3,3), activation = 'relu', padding='same')(pool_4)\n",
        "batch_norm_5 = BatchNormalization()(conv_5)\n",
        "conv_6 = Conv2D(512, (3,3), activation = 'relu', padding='same')(batch_norm_5)\n",
        "batch_norm_6 = BatchNormalization()(conv_6)\n",
        "pool_6 = MaxPool2D(pool_size=(2, 1))(batch_norm_6)\n",
        "conv_7 = Conv2D(512, (2,2), activation = 'relu')(pool_6)\n",
        "squeezed = Lambda(lambda x: K.squeeze(x, 1))(conv_7)\n",
        "blstm_1 = Bidirectional(LSTM(128, return_sequences=True, dropout = 0.2))(squeezed)\n",
        "blstm_2 = Bidirectional(LSTM(128, return_sequences=True, dropout = 0.2))(blstm_1)\n",
        " \n",
        "outputs = Dense(len(char_list)+1, activation = 'softmax')(blstm_2)\n",
        "act_model = Model(inputs, outputs)"
      ],
      "id": "pw8vSXEGOR0C",
      "execution_count": 13,
      "outputs": []
    },
    {
      "cell_type": "code",
      "metadata": {
        "id": "h4HpChZiOR0D",
        "colab": {
          "base_uri": "https://localhost:8080/"
        },
        "outputId": "c84d4d45-ddaf-4cde-a347-1cb06549dff5"
      },
      "source": [
        "act_model.summary()"
      ],
      "id": "h4HpChZiOR0D",
      "execution_count": 14,
      "outputs": [
        {
          "output_type": "stream",
          "name": "stdout",
          "text": [
            "Model: \"model\"\n",
            "_________________________________________________________________\n",
            " Layer (type)                Output Shape              Param #   \n",
            "=================================================================\n",
            " input_1 (InputLayer)        [(None, 32, 128, 1)]      0         \n",
            "                                                                 \n",
            " conv2d (Conv2D)             (None, 32, 128, 64)       640       \n",
            "                                                                 \n",
            " max_pooling2d (MaxPooling2D  (None, 16, 64, 64)       0         \n",
            " )                                                               \n",
            "                                                                 \n",
            " conv2d_1 (Conv2D)           (None, 16, 64, 128)       73856     \n",
            "                                                                 \n",
            " max_pooling2d_1 (MaxPooling  (None, 8, 32, 128)       0         \n",
            " 2D)                                                             \n",
            "                                                                 \n",
            " conv2d_2 (Conv2D)           (None, 8, 32, 256)        295168    \n",
            "                                                                 \n",
            " conv2d_3 (Conv2D)           (None, 8, 32, 256)        590080    \n",
            "                                                                 \n",
            " max_pooling2d_2 (MaxPooling  (None, 4, 32, 256)       0         \n",
            " 2D)                                                             \n",
            "                                                                 \n",
            " conv2d_4 (Conv2D)           (None, 4, 32, 512)        1180160   \n",
            "                                                                 \n",
            " batch_normalization (BatchN  (None, 4, 32, 512)       2048      \n",
            " ormalization)                                                   \n",
            "                                                                 \n",
            " conv2d_5 (Conv2D)           (None, 4, 32, 512)        2359808   \n",
            "                                                                 \n",
            " batch_normalization_1 (Batc  (None, 4, 32, 512)       2048      \n",
            " hNormalization)                                                 \n",
            "                                                                 \n",
            " max_pooling2d_3 (MaxPooling  (None, 2, 32, 512)       0         \n",
            " 2D)                                                             \n",
            "                                                                 \n",
            " conv2d_6 (Conv2D)           (None, 1, 31, 512)        1049088   \n",
            "                                                                 \n",
            " lambda (Lambda)             (None, 31, 512)           0         \n",
            "                                                                 \n",
            " bidirectional (Bidirectiona  (None, 31, 256)          656384    \n",
            " l)                                                              \n",
            "                                                                 \n",
            " bidirectional_1 (Bidirectio  (None, 31, 256)          394240    \n",
            " nal)                                                            \n",
            "                                                                 \n",
            " dense (Dense)               (None, 31, 63)            16191     \n",
            "                                                                 \n",
            "=================================================================\n",
            "Total params: 6,619,711\n",
            "Trainable params: 6,617,663\n",
            "Non-trainable params: 2,048\n",
            "_________________________________________________________________\n"
          ]
        }
      ]
    },
    {
      "cell_type": "code",
      "metadata": {
        "id": "MKSIJjweOR0E"
      },
      "source": [
        "labels = Input(name='the_labels', shape=[max_label_len], dtype='float32')\n",
        "input_length = Input(name='input_length', shape=[1], dtype='int64')\n",
        "label_length = Input(name='label_length', shape=[1], dtype='int64')\n",
        " \n",
        " \n",
        "def ctc_lambda_func(args):\n",
        "    y_pred, labels, input_length, label_length = args\n",
        " \n",
        "    return K.ctc_batch_cost(labels, y_pred, input_length, label_length)\n",
        " \n",
        "loss_out = Lambda(ctc_lambda_func, output_shape=(1,), name='ctc')(\n",
        "    [outputs, labels, input_length, label_length]\n",
        ")\n",
        "model = Model(inputs=[inputs, labels, input_length, label_length], outputs=loss_out)"
      ],
      "id": "MKSIJjweOR0E",
      "execution_count": 15,
      "outputs": []
    },
    {
      "cell_type": "code",
      "metadata": {
        "id": "dfGGuRgEOR0E"
      },
      "source": [
        "model.compile(loss={'ctc': lambda y_true, y_pred: y_pred}, optimizer = 'adam')\n",
        " \n",
        "filepath=\"best_model.hdf5\"\n",
        "checkpoint = ModelCheckpoint(\n",
        "    filepath=filepath, \n",
        "    monitor='val_loss', \n",
        "    verbose=1, \n",
        "    save_best_only=True, \n",
        "    mode='auto'\n",
        ")\n",
        "\n",
        "callbacks_list = [checkpoint]"
      ],
      "id": "dfGGuRgEOR0E",
      "execution_count": 17,
      "outputs": []
    },
    {
      "cell_type": "code",
      "metadata": {
        "id": "FiqmsTvHOR0F"
      },
      "source": [
        "train_img = np.array(train_img)\n",
        "train_input_length = np.array(train_input_length)\n",
        "train_label_length = np.array(train_label_length)\n",
        "\n",
        "valid_img = np.array(valid_img)\n",
        "valid_input_length = np.array(valid_input_length)\n",
        "valid_label_length = np.array(valid_label_length)"
      ],
      "id": "FiqmsTvHOR0F",
      "execution_count": 19,
      "outputs": []
    },
    {
      "cell_type": "code",
      "metadata": {
        "id": "ltSlZkzMOR0F",
        "colab": {
          "base_uri": "https://localhost:8080/"
        },
        "outputId": "62b25168-4f5f-4ec5-baa6-88e40f0ab65b"
      },
      "source": [
        "batch_size = 256\n",
        "epochs = 10\n",
        "\n",
        "history = model.fit(\n",
        "    x=[train_img, train_padded_txt, train_input_length, train_label_length], \n",
        "    y=np.zeros(len(train_img)), \n",
        "    batch_size=batch_size, epochs = epochs, \n",
        "    validation_data = (\n",
        "        [valid_img, valid_padded_txt, valid_input_length, valid_label_length], \n",
        "        [np.zeros(len(valid_img))]\n",
        "    ), \n",
        "    verbose = 1, callbacks = callbacks_list\n",
        ")"
      ],
      "id": "ltSlZkzMOR0F",
      "execution_count": 20,
      "outputs": [
        {
          "output_type": "stream",
          "name": "stdout",
          "text": [
            "Epoch 1/10\n",
            "577/577 [==============================] - ETA: 0s - loss: 26.7530\n",
            "Epoch 00001: val_loss improved from inf to 26.44957, saving model to best_model.hdf5\n",
            "577/577 [==============================] - 370s 596ms/step - loss: 26.7530 - val_loss: 26.4496\n",
            "Epoch 2/10\n",
            "577/577 [==============================] - ETA: 0s - loss: 12.6779\n",
            "Epoch 00002: val_loss improved from 26.44957 to 5.85882, saving model to best_model.hdf5\n",
            "577/577 [==============================] - 330s 571ms/step - loss: 12.6779 - val_loss: 5.8588\n",
            "Epoch 3/10\n",
            "577/577 [==============================] - ETA: 0s - loss: 4.4993\n",
            "Epoch 00003: val_loss improved from 5.85882 to 3.97759, saving model to best_model.hdf5\n",
            "577/577 [==============================] - 330s 573ms/step - loss: 4.4993 - val_loss: 3.9776\n",
            "Epoch 4/10\n",
            "577/577 [==============================] - ETA: 0s - loss: 3.4285\n",
            "Epoch 00004: val_loss improved from 3.97759 to 3.35961, saving model to best_model.hdf5\n",
            "577/577 [==============================] - 329s 571ms/step - loss: 3.4285 - val_loss: 3.3596\n",
            "Epoch 5/10\n",
            "577/577 [==============================] - ETA: 0s - loss: 2.9801\n",
            "Epoch 00005: val_loss improved from 3.35961 to 3.14937, saving model to best_model.hdf5\n",
            "577/577 [==============================] - 329s 570ms/step - loss: 2.9801 - val_loss: 3.1494\n",
            "Epoch 6/10\n",
            "577/577 [==============================] - ETA: 0s - loss: 2.6822\n",
            "Epoch 00006: val_loss improved from 3.14937 to 2.94419, saving model to best_model.hdf5\n",
            "577/577 [==============================] - 328s 568ms/step - loss: 2.6822 - val_loss: 2.9442\n",
            "Epoch 7/10\n",
            "577/577 [==============================] - ETA: 0s - loss: 2.3843\n",
            "Epoch 00007: val_loss improved from 2.94419 to 2.85241, saving model to best_model.hdf5\n",
            "577/577 [==============================] - 328s 569ms/step - loss: 2.3843 - val_loss: 2.8524\n",
            "Epoch 8/10\n",
            "577/577 [==============================] - ETA: 0s - loss: 2.1521\n",
            "Epoch 00008: val_loss improved from 2.85241 to 2.79998, saving model to best_model.hdf5\n",
            "577/577 [==============================] - 330s 573ms/step - loss: 2.1521 - val_loss: 2.8000\n",
            "Epoch 9/10\n",
            "577/577 [==============================] - ETA: 0s - loss: 1.9958\n",
            "Epoch 00009: val_loss did not improve from 2.79998\n",
            "577/577 [==============================] - 330s 572ms/step - loss: 1.9958 - val_loss: 2.8864\n",
            "Epoch 10/10\n",
            "577/577 [==============================] - ETA: 0s - loss: 1.8542\n",
            "Epoch 00010: val_loss did not improve from 2.79998\n",
            "577/577 [==============================] - 330s 572ms/step - loss: 1.8542 - val_loss: 2.8211\n"
          ]
        }
      ]
    },
    {
      "cell_type": "code",
      "source": [
        "loss = history.history['loss']\n",
        "val_loss = history.history['val_loss']\n",
        "plt.plot(loss)\n",
        "plt.plot(val_loss)\n",
        "plt.title('model loss')\n",
        "plt.ylabel('loss')\n",
        "plt.xlabel('epoch')\n",
        "plt.legend(['train', 'validation'], loc='upper right')\n",
        "plt.show()"
      ],
      "metadata": {
        "colab": {
          "base_uri": "https://localhost:8080/",
          "height": 295
        },
        "id": "kwRk8-VXU6zR",
        "outputId": "8dfc8e21-82ac-4caf-b3b9-2bfba4b93b0e"
      },
      "id": "kwRk8-VXU6zR",
      "execution_count": 40,
      "outputs": [
        {
          "output_type": "display_data",
          "data": {
            "image/png": "[encoded data removed]",
            "text/plain": [
              "<Figure size 432x288 with 1 Axes>"
            ]
          },
          "metadata": {
            "needs_background": "light"
          }
        }
      ]
    },
    {
      "cell_type": "markdown",
      "source": [
        "## Prediction"
      ],
      "metadata": {
        "id": "5xbLftEcTZ0n"
      },
      "id": "5xbLftEcTZ0n"
    },
    {
      "cell_type": "code",
      "metadata": {
        "id": "MNh_IayOOR0F",
        "colab": {
          "base_uri": "https://localhost:8080/"
        },
        "outputId": "a875ef64-6f05-41fa-daa5-37cb67610dac"
      },
      "source": [
        "act_model.load_weights('best_model.hdf5')\n",
        "prediction = act_model.predict(valid_img[:20])\n",
        "\n",
        "out = K.get_value(\n",
        "    K.ctc_decode(\n",
        "        prediction, \n",
        "        input_length = np.ones(prediction.shape[0]) * prediction.shape[1],\n",
        "        greedy = True)[0][0]\n",
        ")\n",
        "\n",
        "i = 0\n",
        "for x in out:\n",
        "    print(\"actual text: \", valid_orig_txt[i])\n",
        "    print(\"predicted text: \", end = '')\n",
        "    for p in x:  \n",
        "        if int(p) != -1:\n",
        "            print(char_list[int(p)], end = '')       \n",
        "    print('\\n')\n",
        "    i+=1"
      ],
      "id": "MNh_IayOOR0F",
      "execution_count": 41,
      "outputs": [
        {
          "output_type": "stream",
          "name": "stdout",
          "text": [
            "actual text:  guilds\n",
            "predicted text: guilds\n",
            "\n",
            "actual text:  Spenders\n",
            "predicted text: Spenders\n",
            "\n",
            "actual text:  chairwoman\n",
            "predicted text: CHARVONUN\n",
            "\n",
            "actual text:  ipad\n",
            "predicted text: ipad\n",
            "\n",
            "actual text:  Creeps\n",
            "predicted text: Creeps\n",
            "\n",
            "actual text:  SWITCHABLE\n",
            "predicted text: SWITCHABLE\n",
            "\n",
            "actual text:  Abolitionists\n",
            "predicted text: Aboktionists\n",
            "\n",
            "actual text:  Straight\n",
            "predicted text: Straight\n",
            "\n",
            "actual text:  Goes\n",
            "predicted text: Goes\n",
            "\n",
            "actual text:  inchon\n",
            "predicted text: inchon\n",
            "\n",
            "actual text:  Sophistic\n",
            "predicted text: Sophistic\n",
            "\n",
            "actual text:  WAGED\n",
            "predicted text: WAGED\n",
            "\n",
            "actual text:  Sanely\n",
            "predicted text: Sanely\n",
            "\n",
            "actual text:  MONA\n",
            "predicted text: MONA\n",
            "\n",
            "actual text:  Discomfiting\n",
            "predicted text: Discomfiting\n",
            "\n",
            "actual text:  separate\n",
            "predicted text: separate\n",
            "\n",
            "actual text:  SULK\n",
            "predicted text: SHLK\n",
            "\n",
            "actual text:  Unwisely\n",
            "predicted text: Unwisely\n",
            "\n",
            "actual text:  Licorice\n",
            "predicted text: Licorice\n",
            "\n",
            "actual text:  Nubs\n",
            "predicted text: Nubs\n",
            "\n"
          ]
        }
      ]
    },
    {
      "cell_type": "code",
      "metadata": {
        "id": "YnvBCNnUOR0G"
      },
      "source": [
        ""
      ],
      "id": "YnvBCNnUOR0G",
      "execution_count": null,
      "outputs": []
    }
  ]
}